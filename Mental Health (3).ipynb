{
 "cells": [
  {
   "cell_type": "code",
   "execution_count": 1,
   "id": "0ba229a5",
   "metadata": {},
   "outputs": [],
   "source": [
    "import pandas as pd\n",
    "import numpy as np\n",
    "import matplotlib.pyplot as plt"
   ]
  },
  {
   "cell_type": "code",
   "execution_count": 3,
   "id": "5f9e9520",
   "metadata": {},
   "outputs": [],
   "source": [
    "df=pd.read_excel('Mental_Health_Data.xlsx')"
   ]
  },
  {
   "cell_type": "code",
   "execution_count": 4,
   "id": "7afc840f",
   "metadata": {},
   "outputs": [
    {
     "data": {
      "text/html": [
       "<div>\n",
       "<style scoped>\n",
       "    .dataframe tbody tr th:only-of-type {\n",
       "        vertical-align: middle;\n",
       "    }\n",
       "\n",
       "    .dataframe tbody tr th {\n",
       "        vertical-align: top;\n",
       "    }\n",
       "\n",
       "    .dataframe thead th {\n",
       "        text-align: right;\n",
       "    }\n",
       "</style>\n",
       "<table border=\"1\" class=\"dataframe\">\n",
       "  <thead>\n",
       "    <tr style=\"text-align: right;\">\n",
       "      <th></th>\n",
       "      <th>Timestamp</th>\n",
       "      <th>Choose your gender</th>\n",
       "      <th>Age</th>\n",
       "      <th>Your current year of Study</th>\n",
       "      <th>What is your CGPA?</th>\n",
       "      <th>Marital status</th>\n",
       "      <th>Do you have Depression?</th>\n",
       "      <th>Do you have Anxiety?</th>\n",
       "    </tr>\n",
       "  </thead>\n",
       "  <tbody>\n",
       "    <tr>\n",
       "      <th>0</th>\n",
       "      <td>2020-07-08 12:02:00</td>\n",
       "      <td>1.0</td>\n",
       "      <td>18.0</td>\n",
       "      <td>1.0</td>\n",
       "      <td>3.0</td>\n",
       "      <td>1.0</td>\n",
       "      <td>0.0</td>\n",
       "      <td>1.0</td>\n",
       "    </tr>\n",
       "    <tr>\n",
       "      <th>1</th>\n",
       "      <td>2020-07-08 12:04:00</td>\n",
       "      <td>0.0</td>\n",
       "      <td>21.0</td>\n",
       "      <td>2.0</td>\n",
       "      <td>3.0</td>\n",
       "      <td>1.0</td>\n",
       "      <td>1.0</td>\n",
       "      <td>0.0</td>\n",
       "    </tr>\n",
       "    <tr>\n",
       "      <th>2</th>\n",
       "      <td>2020-07-08 12:05:00</td>\n",
       "      <td>0.0</td>\n",
       "      <td>19.0</td>\n",
       "      <td>1.0</td>\n",
       "      <td>3.0</td>\n",
       "      <td>1.0</td>\n",
       "      <td>0.0</td>\n",
       "      <td>0.0</td>\n",
       "    </tr>\n",
       "    <tr>\n",
       "      <th>3</th>\n",
       "      <td>2020-07-08 12:06:00</td>\n",
       "      <td>1.0</td>\n",
       "      <td>22.0</td>\n",
       "      <td>3.0</td>\n",
       "      <td>3.0</td>\n",
       "      <td>0.0</td>\n",
       "      <td>0.0</td>\n",
       "      <td>1.0</td>\n",
       "    </tr>\n",
       "    <tr>\n",
       "      <th>4</th>\n",
       "      <td>2020-07-08 12:13:00</td>\n",
       "      <td>0.0</td>\n",
       "      <td>23.0</td>\n",
       "      <td>4.0</td>\n",
       "      <td>3.0</td>\n",
       "      <td>1.0</td>\n",
       "      <td>1.0</td>\n",
       "      <td>1.0</td>\n",
       "    </tr>\n",
       "  </tbody>\n",
       "</table>\n",
       "</div>"
      ],
      "text/plain": [
       "            Timestamp  Choose your gender   Age  Your current year of Study  \\\n",
       "0 2020-07-08 12:02:00                 1.0  18.0                         1.0   \n",
       "1 2020-07-08 12:04:00                 0.0  21.0                         2.0   \n",
       "2 2020-07-08 12:05:00                 0.0  19.0                         1.0   \n",
       "3 2020-07-08 12:06:00                 1.0  22.0                         3.0   \n",
       "4 2020-07-08 12:13:00                 0.0  23.0                         4.0   \n",
       "\n",
       "   What is your CGPA?  Marital status  Do you have Depression?  \\\n",
       "0                 3.0             1.0                      0.0   \n",
       "1                 3.0             1.0                      1.0   \n",
       "2                 3.0             1.0                      0.0   \n",
       "3                 3.0             0.0                      0.0   \n",
       "4                 3.0             1.0                      1.0   \n",
       "\n",
       "   Do you have Anxiety?  \n",
       "0                   1.0  \n",
       "1                   0.0  \n",
       "2                   0.0  \n",
       "3                   1.0  \n",
       "4                   1.0  "
      ]
     },
     "execution_count": 4,
     "metadata": {},
     "output_type": "execute_result"
    }
   ],
   "source": [
    "df.head()"
   ]
  },
  {
   "cell_type": "code",
   "execution_count": 5,
   "id": "74c22690",
   "metadata": {},
   "outputs": [
    {
     "data": {
      "text/html": [
       "<div>\n",
       "<style scoped>\n",
       "    .dataframe tbody tr th:only-of-type {\n",
       "        vertical-align: middle;\n",
       "    }\n",
       "\n",
       "    .dataframe tbody tr th {\n",
       "        vertical-align: top;\n",
       "    }\n",
       "\n",
       "    .dataframe thead th {\n",
       "        text-align: right;\n",
       "    }\n",
       "</style>\n",
       "<table border=\"1\" class=\"dataframe\">\n",
       "  <thead>\n",
       "    <tr style=\"text-align: right;\">\n",
       "      <th></th>\n",
       "      <th>Timestamp</th>\n",
       "      <th>Choose your gender</th>\n",
       "      <th>Age</th>\n",
       "      <th>Your current year of Study</th>\n",
       "      <th>What is your CGPA?</th>\n",
       "      <th>Marital status</th>\n",
       "      <th>Do you have Depression?</th>\n",
       "      <th>Do you have Anxiety?</th>\n",
       "    </tr>\n",
       "  </thead>\n",
       "  <tbody>\n",
       "    <tr>\n",
       "      <th>96</th>\n",
       "      <td>2020-07-13 19:56:49</td>\n",
       "      <td>1.0</td>\n",
       "      <td>21.0</td>\n",
       "      <td>1.0</td>\n",
       "      <td>4.0</td>\n",
       "      <td>1.0</td>\n",
       "      <td>1.0</td>\n",
       "      <td>0.0</td>\n",
       "    </tr>\n",
       "    <tr>\n",
       "      <th>97</th>\n",
       "      <td>2020-07-13 21:21:42</td>\n",
       "      <td>0.0</td>\n",
       "      <td>18.0</td>\n",
       "      <td>2.0</td>\n",
       "      <td>3.0</td>\n",
       "      <td>1.0</td>\n",
       "      <td>0.0</td>\n",
       "      <td>0.0</td>\n",
       "    </tr>\n",
       "    <tr>\n",
       "      <th>98</th>\n",
       "      <td>2020-07-13 21:22:56</td>\n",
       "      <td>1.0</td>\n",
       "      <td>19.0</td>\n",
       "      <td>3.0</td>\n",
       "      <td>4.0</td>\n",
       "      <td>0.0</td>\n",
       "      <td>0.0</td>\n",
       "      <td>1.0</td>\n",
       "    </tr>\n",
       "    <tr>\n",
       "      <th>99</th>\n",
       "      <td>2020-07-13 21:23:57</td>\n",
       "      <td>1.0</td>\n",
       "      <td>23.0</td>\n",
       "      <td>4.0</td>\n",
       "      <td>4.0</td>\n",
       "      <td>1.0</td>\n",
       "      <td>1.0</td>\n",
       "      <td>1.0</td>\n",
       "    </tr>\n",
       "    <tr>\n",
       "      <th>100</th>\n",
       "      <td>2020-07-18 20:16:21</td>\n",
       "      <td>0.0</td>\n",
       "      <td>20.0</td>\n",
       "      <td>2.0</td>\n",
       "      <td>3.0</td>\n",
       "      <td>1.0</td>\n",
       "      <td>1.0</td>\n",
       "      <td>1.0</td>\n",
       "    </tr>\n",
       "  </tbody>\n",
       "</table>\n",
       "</div>"
      ],
      "text/plain": [
       "              Timestamp  Choose your gender   Age  Your current year of Study  \\\n",
       "96  2020-07-13 19:56:49                 1.0  21.0                         1.0   \n",
       "97  2020-07-13 21:21:42                 0.0  18.0                         2.0   \n",
       "98  2020-07-13 21:22:56                 1.0  19.0                         3.0   \n",
       "99  2020-07-13 21:23:57                 1.0  23.0                         4.0   \n",
       "100 2020-07-18 20:16:21                 0.0  20.0                         2.0   \n",
       "\n",
       "     What is your CGPA?  Marital status  Do you have Depression?  \\\n",
       "96                  4.0             1.0                      1.0   \n",
       "97                  3.0             1.0                      0.0   \n",
       "98                  4.0             0.0                      0.0   \n",
       "99                  4.0             1.0                      1.0   \n",
       "100                 3.0             1.0                      1.0   \n",
       "\n",
       "     Do you have Anxiety?  \n",
       "96                    0.0  \n",
       "97                    0.0  \n",
       "98                    1.0  \n",
       "99                    1.0  \n",
       "100                   1.0  "
      ]
     },
     "execution_count": 5,
     "metadata": {},
     "output_type": "execute_result"
    }
   ],
   "source": [
    "df.tail()"
   ]
  },
  {
   "cell_type": "code",
   "execution_count": 6,
   "id": "a95703ba",
   "metadata": {},
   "outputs": [],
   "source": [
    "df['Timestamp'] = pd.to_datetime(df['Timestamp'])\n",
    "df.set_index('Timestamp', inplace=True)#set date as index"
   ]
  },
  {
   "cell_type": "code",
   "execution_count": 7,
   "id": "7540823d",
   "metadata": {},
   "outputs": [
    {
     "data": {
      "text/html": [
       "<div>\n",
       "<style scoped>\n",
       "    .dataframe tbody tr th:only-of-type {\n",
       "        vertical-align: middle;\n",
       "    }\n",
       "\n",
       "    .dataframe tbody tr th {\n",
       "        vertical-align: top;\n",
       "    }\n",
       "\n",
       "    .dataframe thead th {\n",
       "        text-align: right;\n",
       "    }\n",
       "</style>\n",
       "<table border=\"1\" class=\"dataframe\">\n",
       "  <thead>\n",
       "    <tr style=\"text-align: right;\">\n",
       "      <th></th>\n",
       "      <th>Choose your gender</th>\n",
       "      <th>Age</th>\n",
       "      <th>Your current year of Study</th>\n",
       "      <th>What is your CGPA?</th>\n",
       "      <th>Marital status</th>\n",
       "      <th>Do you have Depression?</th>\n",
       "      <th>Do you have Anxiety?</th>\n",
       "    </tr>\n",
       "    <tr>\n",
       "      <th>Timestamp</th>\n",
       "      <th></th>\n",
       "      <th></th>\n",
       "      <th></th>\n",
       "      <th></th>\n",
       "      <th></th>\n",
       "      <th></th>\n",
       "      <th></th>\n",
       "    </tr>\n",
       "  </thead>\n",
       "  <tbody>\n",
       "    <tr>\n",
       "      <th>2020-07-08 12:02:00</th>\n",
       "      <td>1.0</td>\n",
       "      <td>18.0</td>\n",
       "      <td>1.0</td>\n",
       "      <td>3.0</td>\n",
       "      <td>1.0</td>\n",
       "      <td>0.0</td>\n",
       "      <td>1.0</td>\n",
       "    </tr>\n",
       "    <tr>\n",
       "      <th>2020-07-08 12:04:00</th>\n",
       "      <td>0.0</td>\n",
       "      <td>21.0</td>\n",
       "      <td>2.0</td>\n",
       "      <td>3.0</td>\n",
       "      <td>1.0</td>\n",
       "      <td>1.0</td>\n",
       "      <td>0.0</td>\n",
       "    </tr>\n",
       "    <tr>\n",
       "      <th>2020-07-08 12:05:00</th>\n",
       "      <td>0.0</td>\n",
       "      <td>19.0</td>\n",
       "      <td>1.0</td>\n",
       "      <td>3.0</td>\n",
       "      <td>1.0</td>\n",
       "      <td>0.0</td>\n",
       "      <td>0.0</td>\n",
       "    </tr>\n",
       "    <tr>\n",
       "      <th>2020-07-08 12:06:00</th>\n",
       "      <td>1.0</td>\n",
       "      <td>22.0</td>\n",
       "      <td>3.0</td>\n",
       "      <td>3.0</td>\n",
       "      <td>0.0</td>\n",
       "      <td>0.0</td>\n",
       "      <td>1.0</td>\n",
       "    </tr>\n",
       "    <tr>\n",
       "      <th>2020-07-08 12:13:00</th>\n",
       "      <td>0.0</td>\n",
       "      <td>23.0</td>\n",
       "      <td>4.0</td>\n",
       "      <td>3.0</td>\n",
       "      <td>1.0</td>\n",
       "      <td>1.0</td>\n",
       "      <td>1.0</td>\n",
       "    </tr>\n",
       "  </tbody>\n",
       "</table>\n",
       "</div>"
      ],
      "text/plain": [
       "                     Choose your gender   Age  Your current year of Study  \\\n",
       "Timestamp                                                                   \n",
       "2020-07-08 12:02:00                 1.0  18.0                         1.0   \n",
       "2020-07-08 12:04:00                 0.0  21.0                         2.0   \n",
       "2020-07-08 12:05:00                 0.0  19.0                         1.0   \n",
       "2020-07-08 12:06:00                 1.0  22.0                         3.0   \n",
       "2020-07-08 12:13:00                 0.0  23.0                         4.0   \n",
       "\n",
       "                     What is your CGPA?  Marital status  \\\n",
       "Timestamp                                                 \n",
       "2020-07-08 12:02:00                 3.0             1.0   \n",
       "2020-07-08 12:04:00                 3.0             1.0   \n",
       "2020-07-08 12:05:00                 3.0             1.0   \n",
       "2020-07-08 12:06:00                 3.0             0.0   \n",
       "2020-07-08 12:13:00                 3.0             1.0   \n",
       "\n",
       "                     Do you have Depression?  Do you have Anxiety?  \n",
       "Timestamp                                                           \n",
       "2020-07-08 12:02:00                      0.0                   1.0  \n",
       "2020-07-08 12:04:00                      1.0                   0.0  \n",
       "2020-07-08 12:05:00                      0.0                   0.0  \n",
       "2020-07-08 12:06:00                      0.0                   1.0  \n",
       "2020-07-08 12:13:00                      1.0                   1.0  "
      ]
     },
     "execution_count": 7,
     "metadata": {},
     "output_type": "execute_result"
    }
   ],
   "source": [
    "df.head()"
   ]
  },
  {
   "cell_type": "code",
   "execution_count": 8,
   "id": "a56078af",
   "metadata": {},
   "outputs": [
    {
     "data": {
      "text/html": [
       "<div>\n",
       "<style scoped>\n",
       "    .dataframe tbody tr th:only-of-type {\n",
       "        vertical-align: middle;\n",
       "    }\n",
       "\n",
       "    .dataframe tbody tr th {\n",
       "        vertical-align: top;\n",
       "    }\n",
       "\n",
       "    .dataframe thead th {\n",
       "        text-align: right;\n",
       "    }\n",
       "</style>\n",
       "<table border=\"1\" class=\"dataframe\">\n",
       "  <thead>\n",
       "    <tr style=\"text-align: right;\">\n",
       "      <th></th>\n",
       "      <th>Choose your gender</th>\n",
       "      <th>Age</th>\n",
       "      <th>Your current year of Study</th>\n",
       "      <th>What is your CGPA?</th>\n",
       "      <th>Marital status</th>\n",
       "      <th>Do you have Depression?</th>\n",
       "      <th>Do you have Anxiety?</th>\n",
       "    </tr>\n",
       "  </thead>\n",
       "  <tbody>\n",
       "    <tr>\n",
       "      <th>Choose your gender</th>\n",
       "      <td>1.000000</td>\n",
       "      <td>0.002324</td>\n",
       "      <td>0.073861</td>\n",
       "      <td>0.181178</td>\n",
       "      <td>-0.069389</td>\n",
       "      <td>-0.143235</td>\n",
       "      <td>0.059783</td>\n",
       "    </tr>\n",
       "    <tr>\n",
       "      <th>Age</th>\n",
       "      <td>0.002324</td>\n",
       "      <td>1.000000</td>\n",
       "      <td>0.244315</td>\n",
       "      <td>0.022000</td>\n",
       "      <td>-0.104551</td>\n",
       "      <td>0.072171</td>\n",
       "      <td>0.093661</td>\n",
       "    </tr>\n",
       "    <tr>\n",
       "      <th>Your current year of Study</th>\n",
       "      <td>0.073861</td>\n",
       "      <td>0.244315</td>\n",
       "      <td>1.000000</td>\n",
       "      <td>-0.012518</td>\n",
       "      <td>-0.232232</td>\n",
       "      <td>0.020192</td>\n",
       "      <td>0.020962</td>\n",
       "    </tr>\n",
       "    <tr>\n",
       "      <th>What is your CGPA?</th>\n",
       "      <td>0.181178</td>\n",
       "      <td>0.022000</td>\n",
       "      <td>-0.012518</td>\n",
       "      <td>1.000000</td>\n",
       "      <td>-0.015624</td>\n",
       "      <td>0.053775</td>\n",
       "      <td>-0.134516</td>\n",
       "    </tr>\n",
       "    <tr>\n",
       "      <th>Marital status</th>\n",
       "      <td>-0.069389</td>\n",
       "      <td>-0.104551</td>\n",
       "      <td>-0.232232</td>\n",
       "      <td>-0.015624</td>\n",
       "      <td>1.000000</td>\n",
       "      <td>0.595784</td>\n",
       "      <td>0.092606</td>\n",
       "    </tr>\n",
       "    <tr>\n",
       "      <th>Do you have Depression?</th>\n",
       "      <td>-0.143235</td>\n",
       "      <td>0.072171</td>\n",
       "      <td>0.020192</td>\n",
       "      <td>0.053775</td>\n",
       "      <td>0.595784</td>\n",
       "      <td>1.000000</td>\n",
       "      <td>0.273764</td>\n",
       "    </tr>\n",
       "    <tr>\n",
       "      <th>Do you have Anxiety?</th>\n",
       "      <td>0.059783</td>\n",
       "      <td>0.093661</td>\n",
       "      <td>0.020962</td>\n",
       "      <td>-0.134516</td>\n",
       "      <td>0.092606</td>\n",
       "      <td>0.273764</td>\n",
       "      <td>1.000000</td>\n",
       "    </tr>\n",
       "  </tbody>\n",
       "</table>\n",
       "</div>"
      ],
      "text/plain": [
       "                            Choose your gender       Age  \\\n",
       "Choose your gender                    1.000000  0.002324   \n",
       "Age                                   0.002324  1.000000   \n",
       "Your current year of Study            0.073861  0.244315   \n",
       "What is your CGPA?                    0.181178  0.022000   \n",
       "Marital status                       -0.069389 -0.104551   \n",
       "Do you have Depression?              -0.143235  0.072171   \n",
       "Do you have Anxiety?                  0.059783  0.093661   \n",
       "\n",
       "                            Your current year of Study  What is your CGPA?  \\\n",
       "Choose your gender                            0.073861            0.181178   \n",
       "Age                                           0.244315            0.022000   \n",
       "Your current year of Study                    1.000000           -0.012518   \n",
       "What is your CGPA?                           -0.012518            1.000000   \n",
       "Marital status                               -0.232232           -0.015624   \n",
       "Do you have Depression?                       0.020192            0.053775   \n",
       "Do you have Anxiety?                          0.020962           -0.134516   \n",
       "\n",
       "                            Marital status  Do you have Depression?  \\\n",
       "Choose your gender               -0.069389                -0.143235   \n",
       "Age                              -0.104551                 0.072171   \n",
       "Your current year of Study       -0.232232                 0.020192   \n",
       "What is your CGPA?               -0.015624                 0.053775   \n",
       "Marital status                    1.000000                 0.595784   \n",
       "Do you have Depression?           0.595784                 1.000000   \n",
       "Do you have Anxiety?              0.092606                 0.273764   \n",
       "\n",
       "                            Do you have Anxiety?  \n",
       "Choose your gender                      0.059783  \n",
       "Age                                     0.093661  \n",
       "Your current year of Study              0.020962  \n",
       "What is your CGPA?                     -0.134516  \n",
       "Marital status                          0.092606  \n",
       "Do you have Depression?                 0.273764  \n",
       "Do you have Anxiety?                    1.000000  "
      ]
     },
     "execution_count": 8,
     "metadata": {},
     "output_type": "execute_result"
    }
   ],
   "source": [
    "df.corr()"
   ]
  },
  {
   "cell_type": "code",
   "execution_count": 9,
   "id": "745f00ae",
   "metadata": {},
   "outputs": [
    {
     "name": "stdout",
     "output_type": "stream",
     "text": [
      "Significant columns:\n",
      "Age\n",
      "Choose your gender\n",
      "Do you have Anxiety?\n",
      "Do you have Depression?\n",
      "Marital status\n",
      "What is your CGPA?\n",
      "Your current year of Study\n"
     ]
    }
   ],
   "source": [
    "# Calculate the correlation matrix\n",
    "correlation_matrix = df.corr()\n",
    "\n",
    "# Iterate over the columns and find significant correlations\n",
    "significant_columns = []\n",
    "threshold = 0.7 \n",
    "\n",
    "for column in correlation_matrix.columns:\n",
    "    correlated_columns = correlation_matrix[column][abs(correlation_matrix[column]) > threshold].index.tolist()\n",
    "    significant_columns.extend(correlated_columns)\n",
    "\n",
    "# Remove duplicates and sort the list of significant columns\n",
    "significant_columns = sorted(list(set(significant_columns)))\n",
    "\n",
    "# Print the significant columns\n",
    "print(\"Significant columns:\")\n",
    "for column in significant_columns:\n",
    "    print(column)"
   ]
  },
  {
   "cell_type": "code",
   "execution_count": 10,
   "id": "1732f64a",
   "metadata": {},
   "outputs": [
    {
     "data": {
      "text/html": [
       "<div>\n",
       "<style scoped>\n",
       "    .dataframe tbody tr th:only-of-type {\n",
       "        vertical-align: middle;\n",
       "    }\n",
       "\n",
       "    .dataframe tbody tr th {\n",
       "        vertical-align: top;\n",
       "    }\n",
       "\n",
       "    .dataframe thead th {\n",
       "        text-align: right;\n",
       "    }\n",
       "</style>\n",
       "<table border=\"1\" class=\"dataframe\">\n",
       "  <thead>\n",
       "    <tr style=\"text-align: right;\">\n",
       "      <th></th>\n",
       "      <th>Choose your gender</th>\n",
       "      <th>Age</th>\n",
       "      <th>Your current year of Study</th>\n",
       "      <th>What is your CGPA?</th>\n",
       "      <th>Marital status</th>\n",
       "      <th>Do you have Depression?</th>\n",
       "      <th>Do you have Anxiety?</th>\n",
       "    </tr>\n",
       "    <tr>\n",
       "      <th>Timestamp</th>\n",
       "      <th></th>\n",
       "      <th></th>\n",
       "      <th></th>\n",
       "      <th></th>\n",
       "      <th></th>\n",
       "      <th></th>\n",
       "      <th></th>\n",
       "    </tr>\n",
       "  </thead>\n",
       "  <tbody>\n",
       "    <tr>\n",
       "      <th>2020-07-08 12:02:00</th>\n",
       "      <td>1.0</td>\n",
       "      <td>18.0</td>\n",
       "      <td>1.0</td>\n",
       "      <td>3.0</td>\n",
       "      <td>1.0</td>\n",
       "      <td>0.0</td>\n",
       "      <td>1.0</td>\n",
       "    </tr>\n",
       "    <tr>\n",
       "      <th>2020-07-08 12:04:00</th>\n",
       "      <td>0.0</td>\n",
       "      <td>21.0</td>\n",
       "      <td>2.0</td>\n",
       "      <td>3.0</td>\n",
       "      <td>1.0</td>\n",
       "      <td>1.0</td>\n",
       "      <td>0.0</td>\n",
       "    </tr>\n",
       "    <tr>\n",
       "      <th>2020-07-08 12:05:00</th>\n",
       "      <td>0.0</td>\n",
       "      <td>19.0</td>\n",
       "      <td>1.0</td>\n",
       "      <td>3.0</td>\n",
       "      <td>1.0</td>\n",
       "      <td>0.0</td>\n",
       "      <td>0.0</td>\n",
       "    </tr>\n",
       "    <tr>\n",
       "      <th>2020-07-08 12:06:00</th>\n",
       "      <td>1.0</td>\n",
       "      <td>22.0</td>\n",
       "      <td>3.0</td>\n",
       "      <td>3.0</td>\n",
       "      <td>0.0</td>\n",
       "      <td>0.0</td>\n",
       "      <td>1.0</td>\n",
       "    </tr>\n",
       "    <tr>\n",
       "      <th>2020-07-08 12:13:00</th>\n",
       "      <td>0.0</td>\n",
       "      <td>23.0</td>\n",
       "      <td>4.0</td>\n",
       "      <td>3.0</td>\n",
       "      <td>1.0</td>\n",
       "      <td>1.0</td>\n",
       "      <td>1.0</td>\n",
       "    </tr>\n",
       "  </tbody>\n",
       "</table>\n",
       "</div>"
      ],
      "text/plain": [
       "                     Choose your gender   Age  Your current year of Study  \\\n",
       "Timestamp                                                                   \n",
       "2020-07-08 12:02:00                 1.0  18.0                         1.0   \n",
       "2020-07-08 12:04:00                 0.0  21.0                         2.0   \n",
       "2020-07-08 12:05:00                 0.0  19.0                         1.0   \n",
       "2020-07-08 12:06:00                 1.0  22.0                         3.0   \n",
       "2020-07-08 12:13:00                 0.0  23.0                         4.0   \n",
       "\n",
       "                     What is your CGPA?  Marital status  \\\n",
       "Timestamp                                                 \n",
       "2020-07-08 12:02:00                 3.0             1.0   \n",
       "2020-07-08 12:04:00                 3.0             1.0   \n",
       "2020-07-08 12:05:00                 3.0             1.0   \n",
       "2020-07-08 12:06:00                 3.0             0.0   \n",
       "2020-07-08 12:13:00                 3.0             1.0   \n",
       "\n",
       "                     Do you have Depression?  Do you have Anxiety?  \n",
       "Timestamp                                                           \n",
       "2020-07-08 12:02:00                      0.0                   1.0  \n",
       "2020-07-08 12:04:00                      1.0                   0.0  \n",
       "2020-07-08 12:05:00                      0.0                   0.0  \n",
       "2020-07-08 12:06:00                      0.0                   1.0  \n",
       "2020-07-08 12:13:00                      1.0                   1.0  "
      ]
     },
     "execution_count": 10,
     "metadata": {},
     "output_type": "execute_result"
    }
   ],
   "source": [
    "df.head()"
   ]
  },
  {
   "cell_type": "code",
   "execution_count": 11,
   "id": "0e860d12",
   "metadata": {},
   "outputs": [
    {
     "data": {
      "text/plain": [
       "(101, 7)"
      ]
     },
     "execution_count": 11,
     "metadata": {},
     "output_type": "execute_result"
    }
   ],
   "source": [
    "df.shape"
   ]
  },
  {
   "cell_type": "code",
   "execution_count": 12,
   "id": "34e5d726",
   "metadata": {},
   "outputs": [
    {
     "data": {
      "text/plain": [
       "Choose your gender            0\n",
       "Age                           1\n",
       "Your current year of Study    0\n",
       "What is your CGPA?            0\n",
       "Marital status                0\n",
       "Do you have Depression?       0\n",
       "Do you have Anxiety?          0\n",
       "dtype: int64"
      ]
     },
     "execution_count": 12,
     "metadata": {},
     "output_type": "execute_result"
    }
   ],
   "source": [
    "df.isnull().sum()"
   ]
  },
  {
   "cell_type": "code",
   "execution_count": 13,
   "id": "23b70fa1",
   "metadata": {},
   "outputs": [],
   "source": [
    "df = df.dropna(subset=['Age'])\n",
    "df.to_excel('dataset_without_null.xlsx', index=False)"
   ]
  },
  {
   "cell_type": "code",
   "execution_count": 14,
   "id": "d48ab5cd",
   "metadata": {},
   "outputs": [
    {
     "data": {
      "text/plain": [
       "Choose your gender            0\n",
       "Age                           0\n",
       "Your current year of Study    0\n",
       "What is your CGPA?            0\n",
       "Marital status                0\n",
       "Do you have Depression?       0\n",
       "Do you have Anxiety?          0\n",
       "dtype: int64"
      ]
     },
     "execution_count": 14,
     "metadata": {},
     "output_type": "execute_result"
    }
   ],
   "source": [
    "df.isnull().sum()"
   ]
  },
  {
   "cell_type": "code",
   "execution_count": 15,
   "id": "794889e0",
   "metadata": {},
   "outputs": [
    {
     "data": {
      "text/plain": [
       "Choose your gender            float64\n",
       "Age                           float64\n",
       "Your current year of Study    float64\n",
       "What is your CGPA?            float64\n",
       "Marital status                float64\n",
       "Do you have Depression?       float64\n",
       "Do you have Anxiety?          float64\n",
       "dtype: object"
      ]
     },
     "execution_count": 15,
     "metadata": {},
     "output_type": "execute_result"
    }
   ],
   "source": [
    "df.dtypes"
   ]
  },
  {
   "cell_type": "code",
   "execution_count": 16,
   "id": "d29c86c3",
   "metadata": {},
   "outputs": [
    {
     "data": {
      "text/html": [
       "<div>\n",
       "<style scoped>\n",
       "    .dataframe tbody tr th:only-of-type {\n",
       "        vertical-align: middle;\n",
       "    }\n",
       "\n",
       "    .dataframe tbody tr th {\n",
       "        vertical-align: top;\n",
       "    }\n",
       "\n",
       "    .dataframe thead th {\n",
       "        text-align: right;\n",
       "    }\n",
       "</style>\n",
       "<table border=\"1\" class=\"dataframe\">\n",
       "  <thead>\n",
       "    <tr style=\"text-align: right;\">\n",
       "      <th></th>\n",
       "      <th>Choose your gender</th>\n",
       "      <th>Age</th>\n",
       "      <th>Your current year of Study</th>\n",
       "      <th>What is your CGPA?</th>\n",
       "      <th>Marital status</th>\n",
       "      <th>Do you have Depression?</th>\n",
       "      <th>Do you have Anxiety?</th>\n",
       "    </tr>\n",
       "  </thead>\n",
       "  <tbody>\n",
       "    <tr>\n",
       "      <th>count</th>\n",
       "      <td>100.000000</td>\n",
       "      <td>100.00000</td>\n",
       "      <td>100.000000</td>\n",
       "      <td>100.000000</td>\n",
       "      <td>100.000000</td>\n",
       "      <td>100.000000</td>\n",
       "      <td>100.000000</td>\n",
       "    </tr>\n",
       "    <tr>\n",
       "      <th>mean</th>\n",
       "      <td>0.750000</td>\n",
       "      <td>20.53000</td>\n",
       "      <td>1.980000</td>\n",
       "      <td>3.430000</td>\n",
       "      <td>0.840000</td>\n",
       "      <td>0.650000</td>\n",
       "      <td>0.660000</td>\n",
       "    </tr>\n",
       "    <tr>\n",
       "      <th>std</th>\n",
       "      <td>0.435194</td>\n",
       "      <td>2.49628</td>\n",
       "      <td>0.994734</td>\n",
       "      <td>0.590412</td>\n",
       "      <td>0.368453</td>\n",
       "      <td>0.479372</td>\n",
       "      <td>0.476095</td>\n",
       "    </tr>\n",
       "    <tr>\n",
       "      <th>min</th>\n",
       "      <td>0.000000</td>\n",
       "      <td>18.00000</td>\n",
       "      <td>1.000000</td>\n",
       "      <td>2.000000</td>\n",
       "      <td>0.000000</td>\n",
       "      <td>0.000000</td>\n",
       "      <td>0.000000</td>\n",
       "    </tr>\n",
       "    <tr>\n",
       "      <th>25%</th>\n",
       "      <td>0.750000</td>\n",
       "      <td>18.00000</td>\n",
       "      <td>1.000000</td>\n",
       "      <td>3.000000</td>\n",
       "      <td>1.000000</td>\n",
       "      <td>0.000000</td>\n",
       "      <td>0.000000</td>\n",
       "    </tr>\n",
       "    <tr>\n",
       "      <th>50%</th>\n",
       "      <td>1.000000</td>\n",
       "      <td>19.00000</td>\n",
       "      <td>2.000000</td>\n",
       "      <td>3.000000</td>\n",
       "      <td>1.000000</td>\n",
       "      <td>1.000000</td>\n",
       "      <td>1.000000</td>\n",
       "    </tr>\n",
       "    <tr>\n",
       "      <th>75%</th>\n",
       "      <td>1.000000</td>\n",
       "      <td>23.00000</td>\n",
       "      <td>3.000000</td>\n",
       "      <td>4.000000</td>\n",
       "      <td>1.000000</td>\n",
       "      <td>1.000000</td>\n",
       "      <td>1.000000</td>\n",
       "    </tr>\n",
       "    <tr>\n",
       "      <th>max</th>\n",
       "      <td>1.000000</td>\n",
       "      <td>24.00000</td>\n",
       "      <td>4.000000</td>\n",
       "      <td>4.000000</td>\n",
       "      <td>1.000000</td>\n",
       "      <td>1.000000</td>\n",
       "      <td>1.000000</td>\n",
       "    </tr>\n",
       "  </tbody>\n",
       "</table>\n",
       "</div>"
      ],
      "text/plain": [
       "       Choose your gender        Age  Your current year of Study  \\\n",
       "count          100.000000  100.00000                  100.000000   \n",
       "mean             0.750000   20.53000                    1.980000   \n",
       "std              0.435194    2.49628                    0.994734   \n",
       "min              0.000000   18.00000                    1.000000   \n",
       "25%              0.750000   18.00000                    1.000000   \n",
       "50%              1.000000   19.00000                    2.000000   \n",
       "75%              1.000000   23.00000                    3.000000   \n",
       "max              1.000000   24.00000                    4.000000   \n",
       "\n",
       "       What is your CGPA?  Marital status  Do you have Depression?  \\\n",
       "count          100.000000      100.000000               100.000000   \n",
       "mean             3.430000        0.840000                 0.650000   \n",
       "std              0.590412        0.368453                 0.479372   \n",
       "min              2.000000        0.000000                 0.000000   \n",
       "25%              3.000000        1.000000                 0.000000   \n",
       "50%              3.000000        1.000000                 1.000000   \n",
       "75%              4.000000        1.000000                 1.000000   \n",
       "max              4.000000        1.000000                 1.000000   \n",
       "\n",
       "       Do you have Anxiety?  \n",
       "count            100.000000  \n",
       "mean               0.660000  \n",
       "std                0.476095  \n",
       "min                0.000000  \n",
       "25%                0.000000  \n",
       "50%                1.000000  \n",
       "75%                1.000000  \n",
       "max                1.000000  "
      ]
     },
     "execution_count": 16,
     "metadata": {},
     "output_type": "execute_result"
    }
   ],
   "source": [
    "df.describe()"
   ]
  },
  {
   "cell_type": "code",
   "execution_count": 17,
   "id": "a2a2ece0",
   "metadata": {},
   "outputs": [
    {
     "name": "stdout",
     "output_type": "stream",
     "text": [
      "<class 'pandas.core.frame.DataFrame'>\n",
      "DatetimeIndex: 100 entries, 2020-07-08 12:02:00 to 2020-07-18 20:16:21\n",
      "Data columns (total 7 columns):\n",
      " #   Column                      Non-Null Count  Dtype  \n",
      "---  ------                      --------------  -----  \n",
      " 0   Choose your gender          100 non-null    float64\n",
      " 1   Age                         100 non-null    float64\n",
      " 2   Your current year of Study  100 non-null    float64\n",
      " 3   What is your CGPA?          100 non-null    float64\n",
      " 4   Marital status              100 non-null    float64\n",
      " 5   Do you have Depression?     100 non-null    float64\n",
      " 6   Do you have Anxiety?        100 non-null    float64\n",
      "dtypes: float64(7)\n",
      "memory usage: 6.2 KB\n"
     ]
    }
   ],
   "source": [
    "df.info()"
   ]
  },
  {
   "cell_type": "code",
   "execution_count": 18,
   "id": "65484144",
   "metadata": {},
   "outputs": [
    {
     "data": {
      "text/plain": [
       "array([[<AxesSubplot:title={'center':'Choose your gender'}>,\n",
       "        <AxesSubplot:title={'center':'Age'}>,\n",
       "        <AxesSubplot:title={'center':'Your current year of Study'}>],\n",
       "       [<AxesSubplot:title={'center':'What is your CGPA?'}>,\n",
       "        <AxesSubplot:title={'center':'Marital status'}>,\n",
       "        <AxesSubplot:title={'center':'Do you have Depression?'}>],\n",
       "       [<AxesSubplot:title={'center':'Do you have Anxiety?'}>,\n",
       "        <AxesSubplot:>, <AxesSubplot:>]], dtype=object)"
      ]
     },
     "execution_count": 18,
     "metadata": {},
     "output_type": "execute_result"
    },
    {
     "data": {
      "image/png": "[encoded data removed]",
      "text/plain": [
       "<Figure size 1440x1440 with 9 Axes>"
      ]
     },
     "metadata": {
      "needs_background": "light"
     },
     "output_type": "display_data"
    }
   ],
   "source": [
    "df.hist(bins=10,figsize=(20,20))"
   ]
  },
  {
   "cell_type": "code",
   "execution_count": 19,
   "id": "199f5d42",
   "metadata": {},
   "outputs": [],
   "source": [
    "X=df[['Choose your gender','Age','Your current year of Study','What is your CGPA?','Marital status']]\n",
    "y=df[['Do you have Depression?','Do you have Anxiety?']]"
   ]
  },
  {
   "cell_type": "code",
   "execution_count": 20,
   "id": "d368865b",
   "metadata": {},
   "outputs": [
    {
     "name": "stdout",
     "output_type": "stream",
     "text": [
      "(100, 5)\n",
      "(100, 2)\n"
     ]
    }
   ],
   "source": [
    "print(X.shape)\n",
    "y = np.array(y)\n",
    "print(y.shape)"
   ]
  },
  {
   "cell_type": "code",
   "execution_count": 21,
   "id": "8ae1dbd9",
   "metadata": {},
   "outputs": [],
   "source": [
    "from sklearn.model_selection import train_test_split\n",
    "# Split the data into training and testing sets\n",
    "X_train, X_test, y_train, y_test = train_test_split(X, y, test_size=0.2, random_state=42)\n"
   ]
  },
  {
   "cell_type": "code",
   "execution_count": 22,
   "id": "c5cc6ff6",
   "metadata": {},
   "outputs": [
    {
     "data": {
      "text/plain": [
       "100"
      ]
     },
     "execution_count": 22,
     "metadata": {},
     "output_type": "execute_result"
    }
   ],
   "source": [
    "len(df)"
   ]
  },
  {
   "cell_type": "code",
   "execution_count": 23,
   "id": "a2ac051b",
   "metadata": {},
   "outputs": [
    {
     "data": {
      "text/plain": [
       "20"
      ]
     },
     "execution_count": 23,
     "metadata": {},
     "output_type": "execute_result"
    }
   ],
   "source": [
    "len(X_test)"
   ]
  },
  {
   "cell_type": "code",
   "execution_count": 24,
   "id": "8d657b84",
   "metadata": {},
   "outputs": [
    {
     "data": {
      "text/plain": [
       "20"
      ]
     },
     "execution_count": 24,
     "metadata": {},
     "output_type": "execute_result"
    }
   ],
   "source": [
    "len(y_test)"
   ]
  },
  {
   "cell_type": "code",
   "execution_count": 25,
   "id": "ff03f1ac",
   "metadata": {},
   "outputs": [
    {
     "name": "stdout",
     "output_type": "stream",
     "text": [
      "X train shape:  (80, 5)\n",
      "Y train shape:  (80, 2)\n",
      "X test shape:  (20, 5)\n",
      "Y test shape:  (20, 2)\n"
     ]
    }
   ],
   "source": [
    "print('X train shape: ', X_train.shape)\n",
    "print('Y train shape: ', y_train.shape)\n",
    "print('X test shape: ', X_test.shape)\n",
    "print('Y test shape: ', y_test.shape)"
   ]
  },
  {
   "cell_type": "code",
   "execution_count": 26,
   "id": "5efb2598",
   "metadata": {},
   "outputs": [],
   "source": [
    "from sklearn.multioutput import MultiOutputRegressor\n",
    "from sklearn.linear_model import LogisticRegression\n",
    "\n",
    "# Create the multi-output model using LogisticRegression as the base estimator\n",
    "model = MultiOutputRegressor(LogisticRegression())\n",
    "\n",
    "# Fit the multi-output model\n",
    "model.fit(X_train, y_train)\n",
    "\n",
    "# Make predictions\n",
    "predictions = model.predict(X_test)\n"
   ]
  },
  {
   "cell_type": "code",
   "execution_count": 27,
   "id": "f1ef8ca9",
   "metadata": {},
   "outputs": [
    {
     "data": {
      "text/plain": [
       "array([[1., 1.],\n",
       "       [1., 1.],\n",
       "       [1., 1.],\n",
       "       [1., 1.],\n",
       "       [1., 1.],\n",
       "       [0., 1.],\n",
       "       [1., 1.],\n",
       "       [1., 1.],\n",
       "       [1., 1.],\n",
       "       [1., 1.],\n",
       "       [1., 1.],\n",
       "       [1., 1.],\n",
       "       [1., 1.],\n",
       "       [0., 1.],\n",
       "       [1., 1.],\n",
       "       [1., 1.],\n",
       "       [1., 1.],\n",
       "       [1., 1.],\n",
       "       [1., 1.],\n",
       "       [1., 1.]])"
      ]
     },
     "execution_count": 27,
     "metadata": {},
     "output_type": "execute_result"
    }
   ],
   "source": [
    "predictions"
   ]
  },
  {
   "cell_type": "code",
   "execution_count": 28,
   "id": "06033fb2",
   "metadata": {},
   "outputs": [
    {
     "name": "stdout",
     "output_type": "stream",
     "text": [
      "[[15  1]\n",
      " [ 3  1]]\n"
     ]
    }
   ],
   "source": [
    "from sklearn.metrics import confusion_matrix\n",
    "\n",
    "# Reshape the predictions and true labels\n",
    "y_pred_reshaped = np.argmax(predictions, axis=1)\n",
    "y_test_reshaped = np.argmax(y_test, axis=1)\n",
    "\n",
    "# Create the confusion matrix\n",
    "cm = confusion_matrix(y_test_reshaped, y_pred_reshaped)\n",
    "print(cm)\n"
   ]
  },
  {
   "cell_type": "code",
   "execution_count": 29,
   "id": "2e31f16b",
   "metadata": {},
   "outputs": [
    {
     "name": "stdout",
     "output_type": "stream",
     "text": [
      "Accuracy: 0.8\n"
     ]
    }
   ],
   "source": [
    "from sklearn.metrics import accuracy_score\n",
    "\n",
    "# Reshape the predictions and true labels\n",
    "y_pred_reshaped = np.argmax(predictions, axis=1)\n",
    "y_test_reshaped = np.argmax(y_test, axis=1)\n",
    "\n",
    "# Calculate the accuracy\n",
    "accuracy = accuracy_score(y_test_reshaped, y_pred_reshaped)\n",
    "print(\"Accuracy:\", accuracy)"
   ]
  },
  {
   "cell_type": "code",
   "execution_count": 30,
   "id": "fb2b4169",
   "metadata": {},
   "outputs": [
    {
     "name": "stdout",
     "output_type": "stream",
     "text": [
      "Precision: 0.8\n"
     ]
    }
   ],
   "source": [
    "from sklearn.metrics import precision_score\n",
    "\n",
    "# Reshape the predictions and true labels\n",
    "y_pred_reshaped = np.argmax(predictions, axis=1)\n",
    "y_test_reshaped = np.argmax(y_test, axis=1)\n",
    "\n",
    "# Calculate the precision\n",
    "precision = precision_score(y_test_reshaped, y_pred_reshaped, average='micro')\n",
    "print(\"Precision:\", precision)"
   ]
  },
  {
   "cell_type": "code",
   "execution_count": 31,
   "id": "7e00ed2c",
   "metadata": {},
   "outputs": [
    {
     "name": "stdout",
     "output_type": "stream",
     "text": [
      "Recall: 0.8\n"
     ]
    }
   ],
   "source": [
    "from sklearn.metrics import recall_score\n",
    "\n",
    "# Reshape the predictions and true labels\n",
    "y_pred_reshaped = np.argmax(predictions, axis=1)\n",
    "y_test_reshaped = np.argmax(y_test, axis=1)\n",
    "\n",
    "# Calculate the recall\n",
    "recall = recall_score(y_test_reshaped, y_pred_reshaped, average='micro')\n",
    "print(\"Recall:\", recall)"
   ]
  },
  {
   "cell_type": "code",
   "execution_count": 32,
   "id": "33f0f693",
   "metadata": {},
   "outputs": [
    {
     "name": "stdout",
     "output_type": "stream",
     "text": [
      "F1 Score: 0.8000000000000002\n"
     ]
    }
   ],
   "source": [
    "from sklearn.metrics import f1_score\n",
    "\n",
    "# Reshape the predictions and true labels\n",
    "y_pred_reshaped = np.argmax(predictions, axis=1)\n",
    "y_test_reshaped = np.argmax(y_test, axis=1)\n",
    "\n",
    "# Calculate the F1 score\n",
    "f1 = f1_score(y_test_reshaped, y_pred_reshaped, average='micro')\n",
    "print(\"F1 Score:\", f1)"
   ]
  },
  {
   "cell_type": "code",
   "execution_count": 33,
   "id": "8b14c731",
   "metadata": {},
   "outputs": [],
   "source": [
    "from sklearn.metrics import roc_curve, auc\n",
    "n_outputs = y_test.shape[1]  # Number of output variables\n",
    "fpr = []\n",
    "tpr = []\n",
    "roc_auc = []\n",
    "\n",
    "for i in range(n_outputs):\n",
    "    fpr_i, tpr_i, _ = roc_curve(y_test[:, i], predictions[:, i])\n",
    "    roc_auc_i = auc(fpr_i, tpr_i)\n",
    "    fpr.append(fpr_i)\n",
    "    tpr.append(tpr_i)\n",
    "    roc_auc.append(roc_auc_i)"
   ]
  },
  {
   "cell_type": "code",
   "execution_count": 34,
   "id": "bf62b1be",
   "metadata": {},
   "outputs": [
    {
     "data": {
      "image/png": "[encoded data removed]",
      "text/plain": [
       "<Figure size 576x432 with 1 Axes>"
      ]
     },
     "metadata": {
      "needs_background": "light"
     },
     "output_type": "display_data"
    }
   ],
   "source": [
    "plt.figure(figsize=(8, 6))\n",
    "colors = ['blue', 'red', 'green', 'orange']  # Customize colors if needed\n",
    "\n",
    "for i in range(n_outputs):\n",
    "    plt.plot(fpr[i], tpr[i], color=colors[i], label='Output {}'.format(i+1))\n",
    "\n",
    "plt.plot([0, 1], [0, 1], color='gray', linestyle='--')\n",
    "plt.xlabel('False Positive Rate')\n",
    "plt.ylabel('True Positive Rate')\n",
    "plt.title('ROC Curve')\n",
    "plt.legend(loc='lower right')\n",
    "plt.show()"
   ]
  },
  {
   "cell_type": "code",
   "execution_count": 35,
   "id": "02b8d560",
   "metadata": {},
   "outputs": [
    {
     "name": "stdout",
     "output_type": "stream",
     "text": [
      "AUC for Output 1: 0.7000\n",
      "AUC for Output 2: 0.5000\n"
     ]
    }
   ],
   "source": [
    "for i in range(n_outputs):\n",
    "    print('AUC for Output {}: {:.4f}'.format(i+1, roc_auc[i]))"
   ]
  },
  {
   "cell_type": "code",
   "execution_count": 36,
   "id": "bd986d54",
   "metadata": {},
   "outputs": [
    {
     "name": "stdout",
     "output_type": "stream",
     "text": [
      "[[1. 1.]\n",
      " [1. 1.]\n",
      " [1. 0.]\n",
      " [1. 1.]\n",
      " [1. 0.]\n",
      " [0. 0.]\n",
      " [1. 1.]\n",
      " [1. 1.]\n",
      " [1. 1.]\n",
      " [0. 1.]\n",
      " [1. 1.]\n",
      " [0. 0.]\n",
      " [1. 1.]\n",
      " [0. 0.]\n",
      " [0. 0.]\n",
      " [1. 1.]\n",
      " [1. 1.]\n",
      " [1. 1.]\n",
      " [0. 1.]\n",
      " [0. 0.]]\n"
     ]
    }
   ],
   "source": [
    "from sklearn.tree import DecisionTreeClassifier\n",
    "from sklearn.multioutput import MultiOutputClassifier\n",
    "from sklearn.metrics import confusion_matrix\n",
    "\n",
    "# Create a decision tree classifier\n",
    "classifier = DecisionTreeClassifier()\n",
    "\n",
    "# Wrap the decision tree classifier with the MultiOutputClassifier\n",
    "multi_output_classifier = MultiOutputClassifier(classifier)\n",
    "\n",
    "# Train the multi-output classifier on the training data\n",
    "multi_output_classifier.fit(X_train, y_train)\n",
    "\n",
    "# Make predictions on the test data\n",
    "prediction1 = multi_output_classifier.predict(X_test)\n",
    "print(prediction1)"
   ]
  },
  {
   "cell_type": "code",
   "execution_count": 37,
   "id": "158728ab",
   "metadata": {
    "scrolled": true
   },
   "outputs": [
    {
     "name": "stdout",
     "output_type": "stream",
     "text": [
      "[[ 7  4]\n",
      " [ 7 22]]\n"
     ]
    }
   ],
   "source": [
    "# Create a confusion matrix\n",
    "cm = confusion_matrix(y_test.ravel(), prediction1.ravel())\n",
    "print(cm)"
   ]
  },
  {
   "cell_type": "code",
   "execution_count": 38,
   "id": "226c3a88",
   "metadata": {},
   "outputs": [
    {
     "name": "stdout",
     "output_type": "stream",
     "text": [
      "Accuracy: 0.725\n"
     ]
    }
   ],
   "source": [
    "from sklearn.metrics import accuracy_score\n",
    "\n",
    "# Flatten the true labels and predicted labels\n",
    "y_test_flattened = y_test.ravel()\n",
    "predictions_flattened = prediction1.ravel()\n",
    "\n",
    "# Calculate the accuracy\n",
    "accuracy = accuracy_score(y_test_flattened, predictions_flattened)\n",
    "print(\"Accuracy:\", accuracy)"
   ]
  },
  {
   "cell_type": "code",
   "execution_count": 39,
   "id": "fce4f881",
   "metadata": {},
   "outputs": [
    {
     "name": "stdout",
     "output_type": "stream",
     "text": [
      "Precision: 0.725\n"
     ]
    }
   ],
   "source": [
    "from sklearn.metrics import precision_score\n",
    "\n",
    "# Flatten the true labels and predicted labels\n",
    "y_test_flattened = y_test.ravel()\n",
    "predictions_flattened = prediction1.ravel()\n",
    "\n",
    "# Calculate the precision score\n",
    "precision = precision_score(y_test_flattened, predictions_flattened, average='micro')\n",
    "print(\"Precision:\", precision)"
   ]
  },
  {
   "cell_type": "code",
   "execution_count": 40,
   "id": "0cc540aa",
   "metadata": {},
   "outputs": [
    {
     "name": "stdout",
     "output_type": "stream",
     "text": [
      "Recall: 0.725\n"
     ]
    }
   ],
   "source": [
    "from sklearn.metrics import recall_score\n",
    "\n",
    "# Flatten the true labels and predicted labels\n",
    "y_test_flattened = y_test.ravel()\n",
    "predictions_flattened = prediction1.ravel()\n",
    "\n",
    "# Calculate the recall score\n",
    "recall = recall_score(y_test_flattened, predictions_flattened, average='micro')\n",
    "print(\"Recall:\", recall)"
   ]
  },
  {
   "cell_type": "code",
   "execution_count": 41,
   "id": "ef0c4bfd",
   "metadata": {},
   "outputs": [
    {
     "name": "stdout",
     "output_type": "stream",
     "text": [
      "F1 Score: 0.7250000000000001\n"
     ]
    }
   ],
   "source": [
    "from sklearn.metrics import f1_score\n",
    "\n",
    "# Flatten the true labels and predicted labels\n",
    "y_test_flattened = y_test.ravel()\n",
    "predictions_flattened = prediction1.ravel()\n",
    "\n",
    "# Calculate the F1 score\n",
    "f1 = f1_score(y_test_flattened, predictions_flattened, average='micro')\n",
    "print(\"F1 Score:\", f1)"
   ]
  },
  {
   "cell_type": "code",
   "execution_count": 42,
   "id": "6b171238",
   "metadata": {},
   "outputs": [],
   "source": [
    "from sklearn.metrics import roc_curve, auc\n",
    "n_outputs = y_test.shape[1]  # Number of output variables\n",
    "fpr = []\n",
    "tpr = []\n",
    "roc_auc = []\n",
    "\n",
    "for i in range(n_outputs):\n",
    "    fpr_i, tpr_i, _ = roc_curve(y_test[:, i], prediction1[:, i])\n",
    "    roc_auc_i = auc(fpr_i, tpr_i)\n",
    "    fpr.append(fpr_i)\n",
    "    tpr.append(tpr_i)\n",
    "    roc_auc.append(roc_auc_i)"
   ]
  },
  {
   "cell_type": "code",
   "execution_count": 43,
   "id": "e4ac9967",
   "metadata": {},
   "outputs": [
    {
     "data": {
      "image/png": "[encoded data removed]",
      "text/plain": [
       "<Figure size 576x432 with 1 Axes>"
      ]
     },
     "metadata": {
      "needs_background": "light"
     },
     "output_type": "display_data"
    }
   ],
   "source": [
    "plt.figure(figsize=(8, 6))\n",
    "colors = ['blue', 'red', 'green', 'orange']  # Customize colors if needed\n",
    "\n",
    "for i in range(n_outputs):\n",
    "    plt.plot(fpr[i], tpr[i], color=colors[i], label='Output {}'.format(i+1))\n",
    "\n",
    "plt.plot([0, 1], [0, 1], color='gray', linestyle='--')\n",
    "plt.xlabel('False Positive Rate')\n",
    "plt.ylabel('True Positive Rate')\n",
    "plt.title('ROC Curve')\n",
    "plt.legend(loc='lower right')\n",
    "plt.show()"
   ]
  },
  {
   "cell_type": "code",
   "execution_count": 44,
   "id": "75f074e6",
   "metadata": {},
   "outputs": [
    {
     "name": "stdout",
     "output_type": "stream",
     "text": [
      "AUC for Output 1: 0.8000\n",
      "AUC for Output 2: 0.6071\n"
     ]
    }
   ],
   "source": [
    "for i in range(n_outputs):\n",
    "    print('AUC for Output {}: {:.4f}'.format(i+1, roc_auc[i]))"
   ]
  },
  {
   "cell_type": "code",
   "execution_count": 45,
   "id": "ba8ba700",
   "metadata": {},
   "outputs": [
    {
     "name": "stdout",
     "output_type": "stream",
     "text": [
      "[[1. 1.]\n",
      " [1. 1.]\n",
      " [1. 0.]\n",
      " [1. 1.]\n",
      " [1. 0.]\n",
      " [0. 1.]\n",
      " [1. 1.]\n",
      " [1. 1.]\n",
      " [1. 1.]\n",
      " [0. 1.]\n",
      " [1. 1.]\n",
      " [0. 1.]\n",
      " [1. 1.]\n",
      " [0. 0.]\n",
      " [0. 0.]\n",
      " [1. 1.]\n",
      " [1. 1.]\n",
      " [1. 1.]\n",
      " [0. 1.]\n",
      " [0. 0.]]\n"
     ]
    }
   ],
   "source": [
    "from sklearn.ensemble import RandomForestClassifier\n",
    "from sklearn.multioutput import ClassifierChain\n",
    "from sklearn.metrics import confusion_matrix\n",
    "\n",
    "# Create a Random Forest classifier\n",
    "rf = RandomForestClassifier(n_estimators=100)\n",
    "\n",
    "# Create a ClassifierChain with the Random Forest classifier\n",
    "classifier_chain = ClassifierChain(rf)\n",
    "\n",
    "# Fit the ClassifierChain on the training data\n",
    "classifier_chain.fit(X_train, y_train)\n",
    "\n",
    "# Predict on the test data\n",
    "prediction2 = classifier_chain.predict(X_test)\n",
    "print(prediction2)"
   ]
  },
  {
   "cell_type": "markdown",
   "id": "9129cfa9",
   "metadata": {},
   "source": [
    "In this code, we first create a Random Forest classifier and then wrap it inside a ClassifierChain. The ClassifierChain treats each label as a separate binary classification problem. We fit the ClassifierChain on the training data and make predictions on the test data. Finally, we calculate the confusion matrix using the confusion_matrix() function."
   ]
  },
  {
   "cell_type": "code",
   "execution_count": 46,
   "id": "66d9f19a",
   "metadata": {},
   "outputs": [
    {
     "name": "stdout",
     "output_type": "stream",
     "text": [
      "[[ 7  4]\n",
      " [ 5 24]]\n"
     ]
    }
   ],
   "source": [
    "# Calculate the confusion matrix\n",
    "cm = confusion_matrix(y_test.ravel(), prediction2.ravel())\n",
    "print(cm)"
   ]
  },
  {
   "cell_type": "code",
   "execution_count": 47,
   "id": "62400ec4",
   "metadata": {},
   "outputs": [
    {
     "name": "stdout",
     "output_type": "stream",
     "text": [
      "Accuracy: 0.6\n"
     ]
    }
   ],
   "source": [
    "accuracy = accuracy_score(y_test, prediction2)\n",
    "print(\"Accuracy:\", accuracy)"
   ]
  },
  {
   "cell_type": "code",
   "execution_count": 48,
   "id": "cab1973f",
   "metadata": {},
   "outputs": [
    {
     "name": "stdout",
     "output_type": "stream",
     "text": [
      "Recall: 0.8285714285714285\n"
     ]
    }
   ],
   "source": [
    "recall = recall_score(y_test, prediction2, average='macro')\n",
    "print(\"Recall:\", recall)"
   ]
  },
  {
   "cell_type": "code",
   "execution_count": 49,
   "id": "4001f6f2",
   "metadata": {},
   "outputs": [
    {
     "name": "stdout",
     "output_type": "stream",
     "text": [
      "Precision: 0.8615384615384616\n"
     ]
    }
   ],
   "source": [
    "precision = precision_score(y_test, prediction2, average='macro')\n",
    "print(\"Precision:\", precision)"
   ]
  },
  {
   "cell_type": "code",
   "execution_count": 50,
   "id": "241bf58e",
   "metadata": {},
   "outputs": [
    {
     "name": "stdout",
     "output_type": "stream",
     "text": [
      "F1 Score: 0.8423645320197044\n"
     ]
    }
   ],
   "source": [
    "f1 = f1_score(y_test, prediction2, average='macro')\n",
    "print(\"F1 Score:\", f1)"
   ]
  },
  {
   "cell_type": "code",
   "execution_count": 51,
   "id": "9958caee",
   "metadata": {},
   "outputs": [],
   "source": [
    "from sklearn.metrics import roc_curve, auc\n",
    "n_outputs = y_test.shape[1]  # Number of output variables\n",
    "fpr = []\n",
    "tpr = []\n",
    "roc_auc = []\n",
    "\n",
    "for i in range(n_outputs):\n",
    "    fpr_i, tpr_i, _ = roc_curve(y_test[:, i], prediction2[:, i])\n",
    "    roc_auc_i = auc(fpr_i, tpr_i)\n",
    "    fpr.append(fpr_i)\n",
    "    tpr.append(tpr_i)\n",
    "    roc_auc.append(roc_auc_i)"
   ]
  },
  {
   "cell_type": "code",
   "execution_count": 52,
   "id": "f8489ed2",
   "metadata": {},
   "outputs": [
    {
     "data": {
      "image/png": "[encoded data removed]",
      "text/plain": [
       "<Figure size 576x432 with 1 Axes>"
      ]
     },
     "metadata": {
      "needs_background": "light"
     },
     "output_type": "display_data"
    }
   ],
   "source": [
    "plt.figure(figsize=(8, 6))\n",
    "colors = ['blue', 'red', 'green', 'orange']  # Customize colors if needed\n",
    "\n",
    "for i in range(n_outputs):\n",
    "    plt.plot(fpr[i], tpr[i], color=colors[i], label='Output {}'.format(i+1))\n",
    "\n",
    "plt.plot([0, 1], [0, 1], color='gray', linestyle='--')\n",
    "plt.xlabel('False Positive Rate')\n",
    "plt.ylabel('True Positive Rate')\n",
    "plt.title('ROC Curve')\n",
    "plt.legend(loc='lower right')\n",
    "plt.show()"
   ]
  },
  {
   "cell_type": "code",
   "execution_count": 53,
   "id": "dd3e1a3d",
   "metadata": {},
   "outputs": [
    {
     "name": "stdout",
     "output_type": "stream",
     "text": [
      "AUC for Output 1: 0.8000\n",
      "AUC for Output 2: 0.6786\n"
     ]
    }
   ],
   "source": [
    "for i in range(n_outputs):\n",
    "    print('AUC for Output {}: {:.4f}'.format(i+1, roc_auc[i]))\n"
   ]
  },
  {
   "cell_type": "code",
   "execution_count": 54,
   "id": "e23bf2db",
   "metadata": {},
   "outputs": [
    {
     "name": "stdout",
     "output_type": "stream",
     "text": [
      "Defaulting to user installation because normal site-packages is not writeable\n",
      "Requirement already satisfied: xgboost in c:\\users\\soora\\appdata\\roaming\\python\\python39\\site-packages (1.7.5)\n",
      "Requirement already satisfied: scipy in c:\\programdata\\anaconda3\\lib\\site-packages (from xgboost) (1.7.3)\n",
      "Requirement already satisfied: numpy in c:\\programdata\\anaconda3\\lib\\site-packages (from xgboost) (1.21.5)\n",
      "Note: you may need to restart the kernel to use updated packages.\n"
     ]
    }
   ],
   "source": [
    "pip install xgboost"
   ]
  },
  {
   "cell_type": "code",
   "execution_count": 55,
   "id": "6c5f8529",
   "metadata": {},
   "outputs": [
    {
     "name": "stdout",
     "output_type": "stream",
     "text": [
      "[[1. 1.]\n",
      " [1. 1.]\n",
      " [1. 1.]\n",
      " [1. 1.]\n",
      " [1. 0.]\n",
      " [0. 1.]\n",
      " [1. 1.]\n",
      " [1. 1.]\n",
      " [1. 0.]\n",
      " [1. 1.]\n",
      " [1. 1.]\n",
      " [0. 1.]\n",
      " [1. 1.]\n",
      " [0. 0.]\n",
      " [0. 0.]\n",
      " [1. 1.]\n",
      " [1. 1.]\n",
      " [1. 1.]\n",
      " [1. 1.]\n",
      " [0. 0.]]\n"
     ]
    }
   ],
   "source": [
    "import xgboost as xgb\n",
    "from sklearn.metrics import confusion_matrix, accuracy_score\n",
    "\n",
    "# Create a multi-output classifier using XGBoost\n",
    "multioutput_classifier = xgb.XGBClassifier(objective='binary:logistic')\n",
    "\n",
    "# Train the classifier\n",
    "multioutput_classifier.fit(X_train, y_train)\n",
    "\n",
    "# Make predictions on the test set\n",
    "y_pred = multioutput_classifier.predict(X_test)\n",
    "print(y_pred)"
   ]
  },
  {
   "cell_type": "code",
   "execution_count": 56,
   "id": "90f5d2b9",
   "metadata": {},
   "outputs": [
    {
     "name": "stdout",
     "output_type": "stream",
     "text": [
      "Confusion Matrix:\n",
      "[[ 5  6]\n",
      " [ 5 24]]\n"
     ]
    }
   ],
   "source": [
    "# Calculate the confusion matrix\n",
    "cm = confusion_matrix(y_test.flatten(), y_pred.flatten())\n",
    "print(\"Confusion Matrix:\")\n",
    "print(cm)"
   ]
  },
  {
   "cell_type": "code",
   "execution_count": 57,
   "id": "c0bff453",
   "metadata": {},
   "outputs": [
    {
     "name": "stdout",
     "output_type": "stream",
     "text": [
      "Accuracy: 0.5\n"
     ]
    }
   ],
   "source": [
    "# Calculate the accuracy\n",
    "accuracy = accuracy_score(y_test, y_pred)\n",
    "print(\"Accuracy:\", accuracy)"
   ]
  },
  {
   "cell_type": "code",
   "execution_count": 58,
   "id": "a378f1cb",
   "metadata": {},
   "outputs": [
    {
     "name": "stdout",
     "output_type": "stream",
     "text": [
      "Precision for each class:\n",
      "[0.83333333 0.7       ]\n"
     ]
    }
   ],
   "source": [
    "# Make predictions on the test set\n",
    "y_pred = model.predict(X_test)\n",
    "\n",
    "# Calculate precision for each class\n",
    "precision = precision_score(y_test, y_pred, average=None)\n",
    "\n",
    "print(\"Precision for each class:\")\n",
    "print(precision)\n"
   ]
  },
  {
   "cell_type": "code",
   "execution_count": 59,
   "id": "188e42db",
   "metadata": {},
   "outputs": [
    {
     "name": "stdout",
     "output_type": "stream",
     "text": [
      "Recall for each class:\n",
      "[1. 1.]\n"
     ]
    }
   ],
   "source": [
    "# Make predictions on the test set\n",
    "y_pred = model.predict(X_test)\n",
    "\n",
    "# Calculate recall for each class\n",
    "recall = recall_score(y_test, y_pred, average=None)\n",
    "\n",
    "print(\"Recall for each class:\")\n",
    "print(recall)"
   ]
  },
  {
   "cell_type": "code",
   "execution_count": 60,
   "id": "5653bf92",
   "metadata": {},
   "outputs": [
    {
     "name": "stdout",
     "output_type": "stream",
     "text": [
      "F1 score for each class:\n",
      "[0.90909091 0.82352941]\n"
     ]
    }
   ],
   "source": [
    "# Make predictions on the test set\n",
    "y_pred = model.predict(X_test)\n",
    "\n",
    "# Calculate F1 score for each class\n",
    "f1 = f1_score(y_test, y_pred, average=None)\n",
    "\n",
    "print(\"F1 score for each class:\")\n",
    "print(f1)"
   ]
  },
  {
   "cell_type": "code",
   "execution_count": 61,
   "id": "8ef8c98b",
   "metadata": {},
   "outputs": [
    {
     "data": {
      "image/png": "[encoded data removed]",
      "text/plain": [
       "<Figure size 432x288 with 1 Axes>"
      ]
     },
     "metadata": {
      "needs_background": "light"
     },
     "output_type": "display_data"
    },
    {
     "name": "stdout",
     "output_type": "stream",
     "text": [
      "Average AUC: 0.6\n"
     ]
    }
   ],
   "source": [
    "# Convert y_pred and y_test to numpy arrays\n",
    "y_pred = np.array(y_pred)\n",
    "y_test = np.array(y_test)\n",
    "\n",
    "# Calculate the number of target variables\n",
    "num_targets = y_pred.shape[1]\n",
    "\n",
    "# Calculate the false positive rate, true positive rate, and AUC for each target variable\n",
    "fpr = dict()\n",
    "tpr = dict()\n",
    "roc_auc = dict()\n",
    "for i in range(num_targets):\n",
    "    fpr[i], tpr[i], _ = roc_curve(y_test[:, i], y_pred[:, i])\n",
    "    roc_auc[i] = auc(fpr[i], tpr[i])\n",
    "\n",
    "# Plot the ROC curve for each target variable\n",
    "plt.figure()\n",
    "for i in range(num_targets):\n",
    "    plt.plot(fpr[i], tpr[i], label='Target {} (AUC = {:.2f})'.format(i, roc_auc[i]))\n",
    "\n",
    "plt.plot([0, 1], [0, 1], 'k--')  # Plot the random guess line\n",
    "plt.xlabel('False Positive Rate')\n",
    "plt.ylabel('True Positive Rate')\n",
    "plt.title('ROC Curve')\n",
    "plt.legend(loc='lower right')\n",
    "plt.show()\n",
    "\n",
    "# Calculate the average AUC across all target variables\n",
    "average_auc = np.mean(list(roc_auc.values()))\n",
    "print(\"Average AUC:\", average_auc)"
   ]
  },
  {
   "cell_type": "code",
   "execution_count": null,
   "id": "a378644f",
   "metadata": {},
   "outputs": [],
   "source": []
  }
 ],
 "metadata": {
  "kernelspec": {
   "display_name": "Python 3 (ipykernel)",
   "language": "python",
   "name": "python3"
  },
  "language_info": {
   "codemirror_mode": {
    "name": "ipython",
    "version": 3
   },
   "file_extension": ".py",
   "mimetype": "text/x-python",
   "name": "python",
   "nbconvert_exporter": "python",
   "pygments_lexer": "ipython3",
   "version": "3.9.12"
  }
 },
 "nbformat": 4,
 "nbformat_minor": 5
}
